{
 "cells": [
  {
   "cell_type": "code",
   "execution_count": 5,
   "id": "cf71b67b",
   "metadata": {},
   "outputs": [
    {
     "name": "stdout",
     "output_type": "stream",
     "text": [
      "Min: 18\n",
      "Max: 54\n",
      "Mean: 29.2990990990991\n",
      "Lower bound for outliers: 21.0\n",
      "Upper bound for outliers: 37.0\n"
     ]
    }
   ],
   "source": [
    "import pandas as pd\n",
    "table = pd.read_csv(\"F:\\\\PPL\\\\PPL_project\\\\data\\\\FedCycleData071012 (2).csv\")\n",
    "meanCycle = table['LengthofCycle']\n",
    "min_val = meanCycle.min()\n",
    "max_val = meanCycle.max()\n",
    "mean_val = meanCycle.mean()\n",
    "q1 = meanCycle.quantile(0.25)\n",
    "q3 = meanCycle.quantile(0.75)\n",
    "iqr = q3 - q1\n",
    "lower_bound = q1 - 1.5 * iqr\n",
    "upper_bound = q3 + 1.5 * iqr\n",
    "print(\"Min:\", min_val)\n",
    "print(\"Max:\", max_val)\n",
    "print(\"Mean:\", mean_val)\n",
    "print(\"Lower bound for outliers:\", lower_bound)\n",
    "print(\"Upper bound for outliers:\", upper_bound)\n",
    "outliers = meanCycle[(meanCycle < lower_bound) | (meanCycle > upper_bound)]\n",
    "\n"
   ]
  },
  {
   "cell_type": "code",
   "execution_count": 8,
   "id": "83810cdd",
   "metadata": {},
   "outputs": [
    {
     "name": "stdout",
     "output_type": "stream",
     "text": [
      "Min: 0.0\n",
      "Max: 22.0\n",
      "Mean: 4.248033877797943\n",
      "Lower bound for outliers: 0\n",
      "Upper bound for outliers: 9.5\n"
     ]
    }
   ],
   "source": [
    "TotalNumberofHighDays = table['TotalNumberofHighDays']\n",
    "TotalNumberofHighDays = pd.to_numeric(TotalNumberofHighDays, errors='coerce')\n",
    "min_val = TotalNumberofHighDays.min()\n",
    "max_val = TotalNumberofHighDays.max()\n",
    "mean_val = TotalNumberofHighDays.mean()\n",
    "q1 = TotalNumberofHighDays.quantile(0.25)\n",
    "q3 = TotalNumberofHighDays.quantile(0.75)\n",
    "iqr = q3 - q1\n",
    "lower_bound = q1 - 1.5 * iqr\n",
    "upper_bound = q3 + 1.5 * iqr\n",
    "print(\"Min:\", min_val)\n",
    "print(\"Max:\", max_val)\n",
    "print(\"Mean:\", mean_val)\n",
    "if lower_bound >= 0:\n",
    "    lower_bound = lower_bound\n",
    "else:\n",
    "    lower_bound =0\n",
    "print(\"Lower bound for outliers:\", lower_bound )\n",
    "print(\"Upper bound for outliers:\", upper_bound)\n",
    "outliers = TotalNumberofHighDays[(TotalNumberofHighDays < lower_bound) | (TotalNumberofHighDays > upper_bound)]\n",
    "\n"
   ]
  }
 ],
 "metadata": {
  "kernelspec": {
   "display_name": "base",
   "language": "python",
   "name": "python3"
  },
  "language_info": {
   "codemirror_mode": {
    "name": "ipython",
    "version": 3
   },
   "file_extension": ".py",
   "mimetype": "text/x-python",
   "name": "python",
   "nbconvert_exporter": "python",
   "pygments_lexer": "ipython3",
   "version": "3.11.7"
  }
 },
 "nbformat": 4,
 "nbformat_minor": 5
}
